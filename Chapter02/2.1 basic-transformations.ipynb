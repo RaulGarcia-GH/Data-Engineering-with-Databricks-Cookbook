{
 "cells": [
  {
   "cell_type": "code",
   "execution_count": 1,
   "id": "1d841128-719a-4d79-b52f-9625d060a7c5",
   "metadata": {},
   "outputs": [
    {
     "name": "stderr",
     "output_type": "stream",
     "text": [
      "Setting default log level to \"WARN\".\n",
      "To adjust logging level use sc.setLogLevel(newLevel). For SparkR, use setLogLevel(newLevel).\n",
      "24/02/04 16:28:53 WARN NativeCodeLoader: Unable to load native-hadoop library for your platform... using builtin-java classes where applicable\n"
     ]
    }
   ],
   "source": [
    "from pyspark.sql import SparkSession\n",
    "from pyspark.sql.functions import transform, col, concat, lit\n",
    "\n",
    "spark = (SparkSession.builder\n",
    "         .appName(\"basic-transformations\")\n",
    "         .master(\"spark://spark-master:7077\")\n",
    "         .config(\"spark.executor.memory\", \"512m\")\n",
    "         .getOrCreate())\n",
    "\n",
    "spark.sparkContext.setLogLevel(\"ERROR\")"
   ]
  },
  {
   "cell_type": "code",
   "execution_count": 2,
   "id": "4490d08e-4226-43b8-85f9-811cfc3fa627",
   "metadata": {
    "tags": []
   },
   "outputs": [
    {
     "name": "stderr",
     "output_type": "stream",
     "text": [
      "                                                                                \r"
     ]
    }
   ],
   "source": [
    "df = (spark.read.format(\"json\")\n",
    "      .option(\"multiLine\", \"true\")\n",
    "      .load(\"../data/nobel_prizes.json\"))"
   ]
  },
  {
   "cell_type": "code",
   "execution_count": 3,
   "id": "e3592800-a634-402e-857b-dbab34732281",
   "metadata": {
    "tags": []
   },
   "outputs": [
    {
     "name": "stderr",
     "output_type": "stream",
     "text": [
      "                                                                                \r"
     ]
    },
    {
     "name": "stdout",
     "output_type": "stream",
     "text": [
      "+----------+--------------------+----+--------------------+--------------------+\n",
      "|  category|   overallMotivation|year|           laureates| laureates_full_name|\n",
      "+----------+--------------------+----+--------------------+--------------------+\n",
      "| chemistry|                null|2022|[{Carolyn, 1015, ...|[Carolyn Bertozzi...|\n",
      "| economics|                null|2022|[{Ben, 1021, \"for...|[Ben Bernanke, Do...|\n",
      "|literature|                null|2022|[{Annie, 1017, \"f...|      [Annie Ernaux]|\n",
      "|     peace|                null|2022|[{Ales, 1018, \"Th...|[Ales Bialiatski ...|\n",
      "|   physics|                null|2022|[{Alain, 1012, \"f...|[Alain Aspect, nu...|\n",
      "|  medicine|                null|2022|[{Svante, 1011, \"...|      [Svante Pääbo]|\n",
      "| chemistry|                null|2021|[{Benjamin, 1002,...|[Benjamin List, D...|\n",
      "| economics|                null|2021|[{David, 1007, \"f...|[David Card, Josh...|\n",
      "|literature|                null|2021|[{Abdulrazak, 100...| [Abdulrazak Gurnah]|\n",
      "|     peace|                null|2021|[{Maria, 1005, \"f...|[Maria Ressa, Dmi...|\n",
      "|   physics|\"for groundbreaki...|2021|[{Syukuro, 999, \"...|[Syukuro Manabe, ...|\n",
      "|  medicine|                null|2021|[{David, 997, \"fo...|[David Julius, Ar...|\n",
      "| chemistry|                null|2020|[{Emmanuelle, 991...|[Emmanuelle Charp...|\n",
      "| economics|                null|2020|[{Paul, 995, \"for...|[Paul Milgrom, Ro...|\n",
      "|literature|                null|2020|[{Louise, 993, \"f...|      [Louise Glück]|\n",
      "|     peace|                null|2020|[{World Food Prog...|              [null]|\n",
      "|   physics|                null|2020|[{Roger, 988, \"fo...|[Roger Penrose, R...|\n",
      "|  medicine|                null|2020|[{Harvey, 985, \"f...|[Harvey Alter, Mi...|\n",
      "| chemistry|                null|2019|[{John, 976, \"for...|[John Goodenough,...|\n",
      "| economics|                null|2019|[{Abhijit, 982, \"...|[Abhijit Banerjee...|\n",
      "+----------+--------------------+----+--------------------+--------------------+\n",
      "only showing top 20 rows\n",
      "\n"
     ]
    }
   ],
   "source": [
    "# Apply transform function to Numbers column\n",
    "df_transformed = (\n",
    "    df.select(\"category\"\n",
    "              , \"overallMotivation\"\n",
    "              , \"year\"\n",
    "              , \"laureates\"\n",
    "              , transform(col(\"laureates\"), lambda x: concat(x.firstname,lit(\" \"), x.surname))\n",
    "              .alias(\"laureates_full_name\")))\n",
    "\n",
    "df_transformed.show()"
   ]
  },
  {
   "cell_type": "code",
   "execution_count": 4,
   "id": "f6519f53-1977-4d68-9582-b8a4f4d56fea",
   "metadata": {
    "tags": []
   },
   "outputs": [
    {
     "name": "stderr",
     "output_type": "stream",
     "text": [
      "[Stage 2:>                                                          (0 + 1) / 1]\r"
     ]
    },
    {
     "name": "stdout",
     "output_type": "stream",
     "text": [
      "+---------+--------------------+-----------------+----+\n",
      "| category|           laureates|overallMotivation|year|\n",
      "+---------+--------------------+-----------------+----+\n",
      "|chemistry|[{Jacobus H., 160...|             null|1901|\n",
      "|chemistry|[{Emil, 161, \"in ...|             null|1902|\n",
      "|chemistry|[{Svante, 162, \"i...|             null|1903|\n",
      "|chemistry|[{Sir William, 16...|             null|1904|\n",
      "|chemistry|[{Adolf, 164, \"in...|             null|1905|\n",
      "|chemistry|[{Henri, 165, \"in...|             null|1906|\n",
      "|chemistry|[{Eduard, 166, \"f...|             null|1907|\n",
      "|chemistry|[{Ernest, 167, \"f...|             null|1908|\n",
      "|chemistry|[{Wilhelm, 168, \"...|             null|1909|\n",
      "|chemistry|[{Otto, 169, \"in ...|             null|1910|\n",
      "|chemistry|[{Marie, 6, \"in r...|             null|1911|\n",
      "|chemistry|[{Victor, 172, \"f...|             null|1912|\n",
      "|chemistry|[{Alfred, 174, \"i...|             null|1913|\n",
      "|chemistry|[{Theodore W., 17...|             null|1914|\n",
      "|chemistry|[{Richard, 176, \"...|             null|1915|\n",
      "|chemistry|[{Fritz, 177, \"fo...|             null|1918|\n",
      "|chemistry|[{Walther, 178, \"...|             null|1920|\n",
      "|chemistry|[{Frederick, 179,...|             null|1921|\n",
      "|chemistry|[{Francis W., 180...|             null|1922|\n",
      "|chemistry|[{Fritz, 181, \"fo...|             null|1923|\n",
      "+---------+--------------------+-----------------+----+\n",
      "only showing top 20 rows\n",
      "\n"
     ]
    },
    {
     "name": "stderr",
     "output_type": "stream",
     "text": [
      "                                                                                \r"
     ]
    }
   ],
   "source": [
    "df_deduped = df.dropDuplicates([\"category\",\"overallMotivation\", \"year\"])\n",
    "\n",
    "df_deduped.show()"
   ]
  },
  {
   "cell_type": "code",
   "execution_count": 5,
   "id": "59d214ae-4f88-4639-a5bc-fb2df36274ed",
   "metadata": {
    "tags": []
   },
   "outputs": [
    {
     "name": "stderr",
     "output_type": "stream",
     "text": [
      "[Stage 5:>                                                          (0 + 1) / 1]\r"
     ]
    },
    {
     "name": "stdout",
     "output_type": "stream",
     "text": [
      "+----------+--------------------+-----------------+----+\n",
      "|  category|           laureates|overallMotivation|year|\n",
      "+----------+--------------------+-----------------+----+\n",
      "| chemistry|[{Jacobus H., 160...|             null|1901|\n",
      "|literature|[{Sully, 569, \"in...|             null|1901|\n",
      "|     peace|[{Henry, 462, \"fo...|             null|1901|\n",
      "|   physics|[{Wilhelm Conrad,...|             null|1901|\n",
      "|  medicine|[{Emil, 293, \"for...|             null|1901|\n",
      "| chemistry|[{Emil, 161, \"in ...|             null|1902|\n",
      "|literature|[{Theodor, 571, \"...|             null|1902|\n",
      "|     peace|[{Élie, 464, \"for...|             null|1902|\n",
      "|   physics|[{Hendrik A., 2, ...|             null|1902|\n",
      "|  medicine|[{Ronald, 294, \"f...|             null|1902|\n",
      "|literature|[{Bjørnstjerne, 5...|             null|1903|\n",
      "| chemistry|[{Svante, 162, \"i...|             null|1903|\n",
      "|     peace|[{Randal, 466, \"f...|             null|1903|\n",
      "|   physics|[{Henri, 4, \"in r...|             null|1903|\n",
      "|  medicine|[{Niels Ryberg, 2...|             null|1903|\n",
      "| chemistry|[{Sir William, 16...|             null|1904|\n",
      "|literature|[{Frédéric, 573, ...|             null|1904|\n",
      "|     peace|[{Institute of In...|             null|1904|\n",
      "|   physics|[{Lord, 8, \"for h...|             null|1904|\n",
      "|  medicine|[{Ivan, 296, \"in ...|             null|1904|\n",
      "+----------+--------------------+-----------------+----+\n",
      "only showing top 20 rows\n",
      "\n"
     ]
    },
    {
     "name": "stderr",
     "output_type": "stream",
     "text": [
      "                                                                                \r"
     ]
    }
   ],
   "source": [
    "# Sort by year in ascending order\n",
    "df_sorted = df.orderBy(\"year\")\n",
    "\n",
    "df_sorted.show()"
   ]
  },
  {
   "cell_type": "code",
   "execution_count": 6,
   "id": "8cdd7897-ec2a-4b2b-b482-89471b5cf305",
   "metadata": {
    "tags": []
   },
   "outputs": [
    {
     "name": "stdout",
     "output_type": "stream",
     "text": [
      "+----------+--------------------+--------------------+----+\n",
      "|  category|           laureates|   overallMotivation|year|\n",
      "+----------+--------------------+--------------------+----+\n",
      "| chemistry|[{Carolyn, 1015, ...|                null|2022|\n",
      "| economics|[{Ben, 1021, \"for...|                null|2022|\n",
      "|literature|[{Annie, 1017, \"f...|                null|2022|\n",
      "|  medicine|[{Svante, 1011, \"...|                null|2022|\n",
      "|     peace|[{Ales, 1018, \"Th...|                null|2022|\n",
      "|   physics|[{Alain, 1012, \"f...|                null|2022|\n",
      "| chemistry|[{Benjamin, 1002,...|                null|2021|\n",
      "| economics|[{David, 1007, \"f...|                null|2021|\n",
      "|literature|[{Abdulrazak, 100...|                null|2021|\n",
      "|  medicine|[{David, 997, \"fo...|                null|2021|\n",
      "|     peace|[{Maria, 1005, \"f...|                null|2021|\n",
      "|   physics|[{Syukuro, 999, \"...|\"for groundbreaki...|2021|\n",
      "| chemistry|[{Emmanuelle, 991...|                null|2020|\n",
      "| economics|[{Paul, 995, \"for...|                null|2020|\n",
      "|literature|[{Louise, 993, \"f...|                null|2020|\n",
      "|  medicine|[{Harvey, 985, \"f...|                null|2020|\n",
      "|     peace|[{World Food Prog...|                null|2020|\n",
      "|   physics|[{Roger, 988, \"fo...|                null|2020|\n",
      "| chemistry|[{John, 976, \"for...|                null|2019|\n",
      "| economics|[{Abhijit, 982, \"...|                null|2019|\n",
      "+----------+--------------------+--------------------+----+\n",
      "only showing top 20 rows\n",
      "\n"
     ]
    }
   ],
   "source": [
    "# Sort by year in descending order, then by category in ascending order\n",
    "df_sorted = df.orderBy([\"year\", \"category\"], ascending=[False, True])\n",
    "\n",
    "df_sorted.show()"
   ]
  },
  {
   "cell_type": "code",
   "execution_count": 7,
   "id": "0205634c-ac3b-4d26-945e-488fb0943da4",
   "metadata": {
    "tags": []
   },
   "outputs": [
    {
     "name": "stdout",
     "output_type": "stream",
     "text": [
      "+----------+--------------------+--------------------+----+\n",
      "|  category|           laureates|   overallMotivation|year|\n",
      "+----------+--------------------+--------------------+----+\n",
      "| chemistry|[{Carolyn, 1015, ...|                null|2022|\n",
      "| economics|[{Ben, 1021, \"for...|                null|2022|\n",
      "|literature|[{Annie, 1017, \"f...|                null|2022|\n",
      "|  medicine|[{Svante, 1011, \"...|                null|2022|\n",
      "|     peace|[{Ales, 1018, \"Th...|                null|2022|\n",
      "|   physics|[{Alain, 1012, \"f...|                null|2022|\n",
      "| chemistry|[{Benjamin, 1002,...|                null|2021|\n",
      "| economics|[{David, 1007, \"f...|                null|2021|\n",
      "|literature|[{Abdulrazak, 100...|                null|2021|\n",
      "|  medicine|[{David, 997, \"fo...|                null|2021|\n",
      "|     peace|[{Maria, 1005, \"f...|                null|2021|\n",
      "|   physics|[{Syukuro, 999, \"...|\"for groundbreaki...|2021|\n",
      "| chemistry|[{Emmanuelle, 991...|                null|2020|\n",
      "| economics|[{Paul, 995, \"for...|                null|2020|\n",
      "|literature|[{Louise, 993, \"f...|                null|2020|\n",
      "|  medicine|[{Harvey, 985, \"f...|                null|2020|\n",
      "|     peace|[{World Food Prog...|                null|2020|\n",
      "|   physics|[{Roger, 988, \"fo...|                null|2020|\n",
      "| chemistry|[{John, 976, \"for...|                null|2019|\n",
      "| economics|[{Abhijit, 982, \"...|                null|2019|\n",
      "+----------+--------------------+--------------------+----+\n",
      "only showing top 20 rows\n",
      "\n"
     ]
    }
   ],
   "source": [
    "# Sort by Age in ascending order, then by Name in descending order\n",
    "df_sorted = df.sort([\"year\", \"category\"], ascending=[False, True])\n",
    "\n",
    "df_sorted.show()"
   ]
  },
  {
   "cell_type": "code",
   "execution_count": 8,
   "id": "3aca54b9-51d9-423b-9dc8-3c62379555db",
   "metadata": {
    "tags": []
   },
   "outputs": [
    {
     "name": "stdout",
     "output_type": "stream",
     "text": [
      "+----------+--------------------+--------------------+----+\n",
      "|     Topic|           laureates|   overallMotivation|year|\n",
      "+----------+--------------------+--------------------+----+\n",
      "| chemistry|[{Carolyn, 1015, ...|                null|2022|\n",
      "| economics|[{Ben, 1021, \"for...|                null|2022|\n",
      "|literature|[{Annie, 1017, \"f...|                null|2022|\n",
      "|     peace|[{Ales, 1018, \"Th...|                null|2022|\n",
      "|   physics|[{Alain, 1012, \"f...|                null|2022|\n",
      "|  medicine|[{Svante, 1011, \"...|                null|2022|\n",
      "| chemistry|[{Benjamin, 1002,...|                null|2021|\n",
      "| economics|[{David, 1007, \"f...|                null|2021|\n",
      "|literature|[{Abdulrazak, 100...|                null|2021|\n",
      "|     peace|[{Maria, 1005, \"f...|                null|2021|\n",
      "|   physics|[{Syukuro, 999, \"...|\"for groundbreaki...|2021|\n",
      "|  medicine|[{David, 997, \"fo...|                null|2021|\n",
      "| chemistry|[{Emmanuelle, 991...|                null|2020|\n",
      "| economics|[{Paul, 995, \"for...|                null|2020|\n",
      "|literature|[{Louise, 993, \"f...|                null|2020|\n",
      "|     peace|[{World Food Prog...|                null|2020|\n",
      "|   physics|[{Roger, 988, \"fo...|                null|2020|\n",
      "|  medicine|[{Harvey, 985, \"f...|                null|2020|\n",
      "| chemistry|[{John, 976, \"for...|                null|2019|\n",
      "| economics|[{Abhijit, 982, \"...|                null|2019|\n",
      "+----------+--------------------+--------------------+----+\n",
      "only showing top 20 rows\n",
      "\n"
     ]
    }
   ],
   "source": [
    "df_renamed = df.withColumnRenamed(\"category\", \"Topic\")\n",
    "\n",
    "df_renamed.show()"
   ]
  },
  {
   "cell_type": "code",
   "execution_count": 9,
   "id": "b5612996-f41e-4374-ab00-d425305a4559",
   "metadata": {
    "tags": []
   },
   "outputs": [
    {
     "name": "stdout",
     "output_type": "stream",
     "text": [
      "+----------+----+--------------------+\n",
      "|     Topic|Year|          Motivation|\n",
      "+----------+----+--------------------+\n",
      "| chemistry|2022|                null|\n",
      "| economics|2022|                null|\n",
      "|literature|2022|                null|\n",
      "|     peace|2022|                null|\n",
      "|   physics|2022|                null|\n",
      "|  medicine|2022|                null|\n",
      "| chemistry|2021|                null|\n",
      "| economics|2021|                null|\n",
      "|literature|2021|                null|\n",
      "|     peace|2021|                null|\n",
      "|   physics|2021|\"for groundbreaki...|\n",
      "|  medicine|2021|                null|\n",
      "| chemistry|2020|                null|\n",
      "| economics|2020|                null|\n",
      "|literature|2020|                null|\n",
      "|     peace|2020|                null|\n",
      "|   physics|2020|                null|\n",
      "|  medicine|2020|                null|\n",
      "| chemistry|2019|                null|\n",
      "| economics|2019|                null|\n",
      "+----------+----+--------------------+\n",
      "only showing top 20 rows\n",
      "\n"
     ]
    }
   ],
   "source": [
    "df_renamed = (\n",
    "    df.selectExpr(\"category as Topic\"\n",
    "                  , \"year as Year\"\n",
    "                  , \"overallMotivation as Motivation\"))\n",
    "\n",
    "df_renamed.show()"
   ]
  },
  {
   "cell_type": "code",
   "execution_count": 10,
   "id": "5bdf12f7-7a18-40dd-b3db-8c1aa9dffd13",
   "metadata": {},
   "outputs": [],
   "source": [
    "spark.stop()"
   ]
  },
  {
   "cell_type": "code",
   "execution_count": null,
   "id": "66fd5afe-8b82-4e80-88d7-31c04a9a1288",
   "metadata": {},
   "outputs": [],
   "source": []
  }
 ],
 "metadata": {
  "kernelspec": {
   "display_name": "Python 3 (ipykernel)",
   "language": "python",
   "name": "python3"
  },
  "language_info": {
   "codemirror_mode": {
    "name": "ipython",
    "version": 3
   },
   "file_extension": ".py",
   "mimetype": "text/x-python",
   "name": "python",
   "nbconvert_exporter": "python",
   "pygments_lexer": "ipython3",
   "version": "3.10.12"
  }
 },
 "nbformat": 4,
 "nbformat_minor": 5
}
