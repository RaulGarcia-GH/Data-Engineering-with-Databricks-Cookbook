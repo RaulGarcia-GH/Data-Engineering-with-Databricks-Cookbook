{
 "cells": [
  {
   "cell_type": "code",
   "execution_count": 4,
   "id": "1d841128-719a-4d79-b52f-9625d060a7c5",
   "metadata": {},
   "outputs": [],
   "source": [
    "from pyspark.sql import SparkSession\n",
    "from pyspark.sql.functions import explode, col\n",
    "\n",
    "spark = (SparkSession.builder\n",
    "         .appName(\"write-udfs\")\n",
    "         .master(\"spark://spark-master:7077\")\n",
    "         .config(\"spark.executor.memory\", \"512m\")\n",
    "         .getOrCreate())\n",
    "\n",
    "spark.sparkContext.setLogLevel(\"ERROR\")"
   ]
  },
  {
   "cell_type": "code",
   "execution_count": 2,
   "id": "ecc7b819-4bd8-4398-a8d7-44b688def90f",
   "metadata": {
    "tags": []
   },
   "outputs": [
    {
     "name": "stderr",
     "output_type": "stream",
     "text": [
      "                                                                                \r"
     ]
    }
   ],
   "source": [
    "df = (spark.read.format(\"json\")\n",
    "      .option(\"multiLine\", \"true\")\n",
    "      .load(\"../data/nobel_prizes.json\"))"
   ]
  },
  {
   "cell_type": "code",
   "execution_count": 5,
   "id": "a7146577-7afc-4498-9a94-a68a21c89d89",
   "metadata": {
    "tags": []
   },
   "outputs": [],
   "source": [
    "df_flattened = (\n",
    "    df\n",
    "    .withColumn(\"laureates\",explode(col(\"laureates\")))\n",
    "    .select(col(\"category\")\n",
    "            ,col(\"year\")\n",
    "            ,col(\"overallMotivation\")\n",
    "            ,col(\"laureates.id\")\n",
    "            ,col(\"laureates.firstname\")\n",
    "            ,col(\"laureates.surname\")\n",
    "            ,col(\"laureates.share\")\n",
    "            ,col(\"laureates.motivation\"))\n",
    "    .filter(col(\"laureates.firstname\").isNotNull() & col(\"laureates.surname\").isNotNull()))"
   ]
  },
  {
   "cell_type": "code",
   "execution_count": 6,
   "id": "64a21a16-b27a-4490-bad0-612649af6826",
   "metadata": {
    "tags": []
   },
   "outputs": [],
   "source": [
    "def concat(first_name, last_name):\n",
    "    return first_name + \" \" + last_name"
   ]
  },
  {
   "cell_type": "code",
   "execution_count": 7,
   "id": "200b31e2-9517-4c09-a2ef-0f0330759860",
   "metadata": {
    "tags": []
   },
   "outputs": [],
   "source": [
    "from pyspark.sql.functions import udf\n",
    "concat_udf = udf(concat)"
   ]
  },
  {
   "cell_type": "code",
   "execution_count": 8,
   "id": "1454b0c4-728c-44a2-bdbe-22d988f6cd37",
   "metadata": {
    "tags": []
   },
   "outputs": [],
   "source": [
    "from pyspark.sql.types import StringType\n",
    "concat_udf = udf(concat, StringType())"
   ]
  },
  {
   "cell_type": "code",
   "execution_count": 9,
   "id": "640e3130-4958-4c6d-a56b-86eabb53637c",
   "metadata": {
    "tags": []
   },
   "outputs": [],
   "source": [
    "df_flattened = df_flattened.withColumn(\"full_name\", concat_udf(df_flattened[\"firstname\"], df_flattened[\"surname\"]))"
   ]
  },
  {
   "cell_type": "code",
   "execution_count": 10,
   "id": "e8122652-c053-4a4f-a43a-00c97dbdac6f",
   "metadata": {
    "tags": []
   },
   "outputs": [
    {
     "name": "stderr",
     "output_type": "stream",
     "text": [
      "[Stage 1:>                                                          (0 + 1) / 1]\r"
     ]
    },
    {
     "name": "stdout",
     "output_type": "stream",
     "text": [
      "+----------+----+--------------------+----+----------+-----------+-----+--------------------+-----------------+\n",
      "|  category|year|   overallMotivation|  id| firstname|    surname|share|          motivation|        full_name|\n",
      "+----------+----+--------------------+----+----------+-----------+-----+--------------------+-----------------+\n",
      "| chemistry|2022|                null|1015|   Carolyn|   Bertozzi|    3|\"for the developm...| Carolyn Bertozzi|\n",
      "| chemistry|2022|                null|1016|    Morten|     Meldal|    3|\"for the developm...|    Morten Meldal|\n",
      "| chemistry|2022|                null| 743|     Barry|  Sharpless|    3|\"for the developm...|  Barry Sharpless|\n",
      "| economics|2022|                null|1021|       Ben|   Bernanke|    3|\"for research on ...|     Ben Bernanke|\n",
      "| economics|2022|                null|1022|   Douglas|    Diamond|    3|\"for research on ...|  Douglas Diamond|\n",
      "| economics|2022|                null|1023|    Philip|     Dybvig|    3|\"for research on ...|    Philip Dybvig|\n",
      "|literature|2022|                null|1017|     Annie|     Ernaux|    1|\"for the courage ...|     Annie Ernaux|\n",
      "|     peace|2022|                null|1018|      Ales|Bialiatski |    3|\"The Peace Prize ...| Ales Bialiatski |\n",
      "|   physics|2022|                null|1012|     Alain|     Aspect|    3|\"for experiments ...|     Alain Aspect|\n",
      "|   physics|2022|                null|1014|     Anton|  Zeilinger|    3|\"for experiments ...|  Anton Zeilinger|\n",
      "|  medicine|2022|                null|1011|    Svante|      Pääbo|    1|\"for his discover...|     Svante Pääbo|\n",
      "| chemistry|2021|                null|1002|  Benjamin|       List|    2|\"for the developm...|    Benjamin List|\n",
      "| chemistry|2021|                null|1003|     David|  MacMillan|    2|\"for the developm...|  David MacMillan|\n",
      "| economics|2021|                null|1007|     David|       Card|    2|\"for his empirica...|       David Card|\n",
      "| economics|2021|                null|1008|    Joshua|    Angrist|    4|\"for their method...|   Joshua Angrist|\n",
      "| economics|2021|                null|1009|     Guido|     Imbens|    4|\"for their method...|     Guido Imbens|\n",
      "|literature|2021|                null|1004|Abdulrazak|     Gurnah|    1|\"for his uncompro...|Abdulrazak Gurnah|\n",
      "|     peace|2021|                null|1005|     Maria|      Ressa|    2|\"for their effort...|      Maria Ressa|\n",
      "|     peace|2021|                null|1006|    Dmitry|    Muratov|    2|\"for their effort...|   Dmitry Muratov|\n",
      "|   physics|2021|\"for groundbreaki...| 999|   Syukuro|     Manabe|    4|\"for the physical...|   Syukuro Manabe|\n",
      "+----------+----+--------------------+----+----------+-----------+-----+--------------------+-----------------+\n",
      "only showing top 20 rows\n",
      "\n"
     ]
    },
    {
     "name": "stderr",
     "output_type": "stream",
     "text": [
      "                                                                                \r"
     ]
    }
   ],
   "source": [
    "df_flattened.show()"
   ]
  },
  {
   "cell_type": "markdown",
   "id": "2dd6cffb-d945-4111-95dc-a0591070c82f",
   "metadata": {},
   "source": [
    "### Using UDFs in Spark SQL"
   ]
  },
  {
   "cell_type": "code",
   "execution_count": 11,
   "id": "5bbc615c-73ad-46fc-965f-cc3fba819342",
   "metadata": {
    "tags": []
   },
   "outputs": [
    {
     "name": "stderr",
     "output_type": "stream",
     "text": [
      "                                                                                \r"
     ]
    },
    {
     "name": "stdout",
     "output_type": "stream",
     "text": [
      "+---+----------+\n",
      "|num|square_num|\n",
      "+---+----------+\n",
      "|  1|         1|\n",
      "|  2|         4|\n",
      "|  3|         9|\n",
      "|  4|        16|\n",
      "|  5|        25|\n",
      "+---+----------+\n",
      "\n"
     ]
    }
   ],
   "source": [
    "from pyspark.sql.functions import udf\n",
    "from pyspark.sql.types import IntegerType\n",
    "\n",
    "# Define a UDF\n",
    "def square_udf(x):\n",
    "    return x ** 2\n",
    "\n",
    "# Register the UDF\n",
    "spark.udf.register(\"square\", square_udf, IntegerType())\n",
    "\n",
    "# Create a DataFrame\n",
    "df = spark.createDataFrame([(1,), (2,), (3,), (4,), (5,)], [\"num\"])\n",
    "\n",
    "# Use the registered UDF in a SQL query\n",
    "df.createOrReplaceTempView(\"numbers\")\n",
    "result = spark.sql(\"SELECT num, square(num) AS square_num FROM numbers\")\n",
    "\n",
    "# Show the result\n",
    "result.show()"
   ]
  },
  {
   "cell_type": "code",
   "execution_count": 12,
   "id": "ab0b2436-32fc-4ce3-894c-26e902605baa",
   "metadata": {},
   "outputs": [],
   "source": [
    "spark.stop()"
   ]
  },
  {
   "cell_type": "code",
   "execution_count": null,
   "id": "d052cef6-6ff8-49b1-98be-285d0305568f",
   "metadata": {},
   "outputs": [],
   "source": []
  }
 ],
 "metadata": {
  "kernelspec": {
   "display_name": "Python 3 (ipykernel)",
   "language": "python",
   "name": "python3"
  },
  "language_info": {
   "codemirror_mode": {
    "name": "ipython",
    "version": 3
   },
   "file_extension": ".py",
   "mimetype": "text/x-python",
   "name": "python",
   "nbconvert_exporter": "python",
   "pygments_lexer": "ipython3",
   "version": "3.10.12"
  }
 },
 "nbformat": 4,
 "nbformat_minor": 5
}
