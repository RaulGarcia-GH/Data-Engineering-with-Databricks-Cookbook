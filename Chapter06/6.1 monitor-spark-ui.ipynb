{
 "cells": [
  {
   "cell_type": "code",
   "execution_count": 1,
   "id": "6bfbe105-2fd1-43f1-95e9-525d85226a13",
   "metadata": {},
   "outputs": [
    {
     "name": "stderr",
     "output_type": "stream",
     "text": [
      "Setting default log level to \"WARN\".\n",
      "To adjust logging level use sc.setLogLevel(newLevel). For SparkR, use setLogLevel(newLevel).\n",
      "23/09/03 11:00:25 WARN NativeCodeLoader: Unable to load native-hadoop library for your platform... using builtin-java classes where applicable\n"
     ]
    }
   ],
   "source": [
    "from pyspark.sql import SparkSession\n",
    "\n",
    "# Create a new SparkSession\n",
    "spark = (SparkSession\n",
    "         .builder\n",
    "         .appName(\"monitor-spark-ui\")\n",
    "         .master(\"spark://spark-master:7077\")\n",
    "         .config(\"spark.executor.memory\", \"512m\")\n",
    "         .getOrCreate())\n",
    "\n",
    "# Set log level to ERROR\n",
    "spark.sparkContext.setLogLevel(\"ERROR\")"
   ]
  },
  {
   "cell_type": "code",
   "execution_count": 2,
   "id": "d348a886-776d-42db-936c-0d7339969642",
   "metadata": {},
   "outputs": [],
   "source": [
    "from pyspark.sql.types import StructType, StructField, StringType, IntegerType, DateType\n",
    "\n",
    "# Define a Schema\n",
    "schema = StructType([\n",
    "    StructField(\"show_id\", StringType(), True),\n",
    "    StructField(\"type\", StringType(), True),\n",
    "    StructField(\"title\", StringType(), True),\n",
    "    StructField(\"director\", StringType(), True),\n",
    "    StructField(\"cast\", StringType(), True),\n",
    "    StructField(\"country\", StringType(), True),\n",
    "    StructField(\"date_added\", DateType(), True),\n",
    "    StructField(\"release_year\", IntegerType(), True),\n",
    "    StructField(\"rating\", StringType(), True),\n",
    "    StructField(\"duration\", StringType(), True),\n",
    "    StructField(\"listed_in\", StringType(), True),\n",
    "    StructField(\"description\", StringType(), True)])\n"
   ]
  },
  {
   "cell_type": "code",
   "execution_count": 3,
   "id": "8670a1c7-4876-4870-8a8c-aedb67ee703e",
   "metadata": {},
   "outputs": [],
   "source": [
    "# Read CSV file into a DataFrame\n",
    "df = (spark.read.format(\"csv\")\n",
    "      .option(\"header\", \"true\")\n",
    "      .schema(schema)\n",
    "      .load(\"../data/netflix_titles.csv\"))"
   ]
  },
  {
   "cell_type": "code",
   "execution_count": 4,
   "id": "0d196aa1-1af0-4100-9fee-17ad1edff93c",
   "metadata": {},
   "outputs": [],
   "source": [
    "# Filter rows where release_year ge is greater than 2020\n",
    "df = df.filter(df.release_year > 2020)"
   ]
  },
  {
   "cell_type": "code",
   "execution_count": 5,
   "id": "cf6e81ec-736f-4955-b953-a9210cf55112",
   "metadata": {},
   "outputs": [],
   "source": [
    "# Group by country and count\n",
    "df = df.groupBy(\"country\").count()"
   ]
  },
  {
   "cell_type": "code",
   "execution_count": 6,
   "id": "831d1ff5-cd30-47ba-91ee-d4e664c67917",
   "metadata": {},
   "outputs": [
    {
     "name": "stderr",
     "output_type": "stream",
     "text": [
      "[Stage 0:>                                                          (0 + 1) / 1]\r"
     ]
    },
    {
     "name": "stdout",
     "output_type": "stream",
     "text": [
      "+--------------------+-----+\n",
      "|             country|count|\n",
      "+--------------------+-----+\n",
      "|India, United Kin...|    1|\n",
      "|France, United St...|    3|\n",
      "|              Sweden|    3|\n",
      "|              Turkey|    5|\n",
      "|China, United Sta...|    1|\n",
      "|             Germany|    5|\n",
      "|              Jordan|    1|\n",
      "|              France|    7|\n",
      "|    Uruguay, Germany|    1|\n",
      "|United States, India|    1|\n",
      "|Belgium, United K...|    1|\n",
      "|                null|  208|\n",
      "|           Argentina|    2|\n",
      "|Mexico, United St...|    1|\n",
      "|             Belgium|    2|\n",
      "|               India|   31|\n",
      "|       United States|  137|\n",
      "|               China|    4|\n",
      "|United States, Cz...|    1|\n",
      "|United States, Japan|    2|\n",
      "+--------------------+-----+\n",
      "only showing top 20 rows\n",
      "\n"
     ]
    },
    {
     "name": "stderr",
     "output_type": "stream",
     "text": [
      "                                                                                \r"
     ]
    }
   ],
   "source": [
    "# Show the result\n",
    "df.show()"
   ]
  },
  {
   "cell_type": "code",
   "execution_count": null,
   "id": "030c5f42-391f-4b5f-93ff-efa79ae4bf36",
   "metadata": {},
   "outputs": [],
   "source": []
  }
 ],
 "metadata": {
  "kernelspec": {
   "display_name": "Python 3 (ipykernel)",
   "language": "python",
   "name": "python3"
  },
  "language_info": {
   "codemirror_mode": {
    "name": "ipython",
    "version": 3
   },
   "file_extension": ".py",
   "mimetype": "text/x-python",
   "name": "python",
   "nbconvert_exporter": "python",
   "pygments_lexer": "ipython3",
   "version": "3.10.12"
  }
 },
 "nbformat": 4,
 "nbformat_minor": 5
}
